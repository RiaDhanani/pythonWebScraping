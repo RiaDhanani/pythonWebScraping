{
 "cells": [
  {
   "cell_type": "code",
   "execution_count": 1,
   "metadata": {},
   "outputs": [
    {
     "name": "stdout",
     "output_type": "stream",
     "text": [
      "\n",
      " \n",
      "\n",
      "\n",
      "\n",
      "\n",
      "\n",
      "\n",
      "\n",
      "\n",
      "\n",
      "\n",
      "\n",
      "<!DOCTYPE html>\n",
      "<html\n",
      "    xmlns:og=\"http://ogp.me/ns#\"\n",
      "    xmlns:fb=\"http://www.facebook.com/2008/fbml\">\n",
      "    <head>\n",
      "         \n",
      "        <meta charset=\"utf-8\">\n",
      "        <meta http-equiv=\"X-UA-Compatible\" content=\"IE=edge\">\n",
      "\n",
      "    <meta name=\"\n"
     ]
    }
   ],
   "source": [
    "from requests import get\n",
    "url = 'https://www.imdb.com/title/tt0386676/episodes?season=1'\n",
    "response = get(url)\n",
    "print(response.text[0:250])"
   ]
  },
  {
   "cell_type": "code",
   "execution_count": 2,
   "metadata": {},
   "outputs": [
    {
     "name": "stdout",
     "output_type": "stream",
     "text": [
      "Requirement already satisfied: bs4 in c:\\users\\ria.dhanani\\appdata\\local\\programs\\python\\python38\\lib\\site-packages (0.0.1)\n",
      "Requirement already satisfied: beautifulsoup4 in c:\\users\\ria.dhanani\\appdata\\local\\programs\\python\\python38\\lib\\site-packages (from bs4) (4.9.3)\n",
      "Requirement already satisfied: soupsieve>1.2; python_version >= \"3.0\" in c:\\users\\ria.dhanani\\appdata\\local\\programs\\python\\python38\\lib\\site-packages (from beautifulsoup4->bs4) (2.2.1)\n",
      "Note: you may need to restart the kernel to use updated packages.\n"
     ]
    },
    {
     "name": "stderr",
     "output_type": "stream",
     "text": [
      "WARNING: You are using pip version 20.1.1; however, version 21.1.2 is available.\n",
      "You should consider upgrading via the 'c:\\users\\ria.dhanani\\appdata\\local\\programs\\python\\python38\\python.exe -m pip install --upgrade pip' command.\n"
     ]
    }
   ],
   "source": [
    "pip install bs4"
   ]
  },
  {
   "cell_type": "code",
   "execution_count": 3,
   "metadata": {},
   "outputs": [
    {
     "data": {
      "text/plain": [
       "bs4.BeautifulSoup"
      ]
     },
     "execution_count": 3,
     "metadata": {},
     "output_type": "execute_result"
    }
   ],
   "source": [
    "from bs4 import BeautifulSoup\n",
    "\n",
    "html_soup = BeautifulSoup(response.text, 'html.parser')\n",
    "type(html_soup)"
   ]
  },
  {
   "cell_type": "code",
   "execution_count": 4,
   "metadata": {},
   "outputs": [],
   "source": [
    "episode_containers = html_soup.find_all('div', class_='info')"
   ]
  },
  {
   "cell_type": "code",
   "execution_count": 5,
   "metadata": {},
   "outputs": [
    {
     "data": {
      "text/plain": [
       "'Pilot'"
      ]
     },
     "execution_count": 5,
     "metadata": {},
     "output_type": "execute_result"
    }
   ],
   "source": [
    "episode_containers[0].a['title']"
   ]
  },
  {
   "cell_type": "code",
   "execution_count": 6,
   "metadata": {},
   "outputs": [
    {
     "data": {
      "text/plain": [
       "'1'"
      ]
     },
     "execution_count": 6,
     "metadata": {},
     "output_type": "execute_result"
    }
   ],
   "source": [
    "episode_containers[0].meta['content']"
   ]
  },
  {
   "cell_type": "code",
   "execution_count": 7,
   "metadata": {},
   "outputs": [
    {
     "data": {
      "text/plain": [
       "'24 Mar. 2005'"
      ]
     },
     "execution_count": 7,
     "metadata": {},
     "output_type": "execute_result"
    }
   ],
   "source": [
    "episode_containers[0].find('div', class_='airdate').text.strip()"
   ]
  },
  {
   "cell_type": "code",
   "execution_count": 8,
   "metadata": {},
   "outputs": [
    {
     "data": {
      "text/plain": [
       "'7.5'"
      ]
     },
     "execution_count": 8,
     "metadata": {},
     "output_type": "execute_result"
    }
   ],
   "source": [
    "episode_containers[0].find('span', class_='ipl-rating-star__rating').text"
   ]
  },
  {
   "cell_type": "code",
   "execution_count": 9,
   "metadata": {},
   "outputs": [
    {
     "data": {
      "text/plain": [
       "'(6,328)'"
      ]
     },
     "execution_count": 9,
     "metadata": {},
     "output_type": "execute_result"
    }
   ],
   "source": [
    "episode_containers[0].find('span', class_='ipl-rating-star__total-votes').text"
   ]
  },
  {
   "cell_type": "code",
   "execution_count": 10,
   "metadata": {},
   "outputs": [
    {
     "data": {
      "text/plain": [
       "'The premiere episode introduces the boss and staff of the Dunder-Mifflin Paper Company in Scranton, Pennsylvania in a documentary about the workplace.'"
      ]
     },
     "execution_count": 10,
     "metadata": {},
     "output_type": "execute_result"
    }
   ],
   "source": [
    "episode_containers[0].find('div', class_='item_description').text.strip()"
   ]
  },
  {
   "cell_type": "code",
   "execution_count": 11,
   "metadata": {},
   "outputs": [],
   "source": [
    "community_episodes = []\n",
    "\n",
    "for sn in range(1,10):\n",
    "    response = get('https://www.imdb.com/title/tt0386676/episodes?season=' + str(sn))\n",
    "    page_html = BeautifulSoup(response.text, 'html.parser')\n",
    "    episode_containers = page_html.find_all('div', class_= 'info')\n",
    "    \n",
    "    for episodes in episode_containers:\n",
    "        season = sn\n",
    "        episode_number = episodes.meta['content']\n",
    "        title = episodes.a['title']\n",
    "        airdate = episodes.find('div', class_='airdate').text.strip()\n",
    "        rating = episodes.find('span', class_='ipl-rating-star__rating').text\n",
    "        total_votes = episodes.find('span', class_='ipl-rating-star__total-votes').text\n",
    "        desc = episodes.find('div', class_='item_description').text.strip()\n",
    "        episode_data = [season, episode_number, title, airdate, rating, total_votes, desc]\n",
    "        community_episodes.append(episode_data)"
   ]
  },
  {
   "cell_type": "code",
   "execution_count": 13,
   "metadata": {},
   "outputs": [
    {
     "data": {
      "text/html": [
       "<div>\n",
       "<style scoped>\n",
       "    .dataframe tbody tr th:only-of-type {\n",
       "        vertical-align: middle;\n",
       "    }\n",
       "\n",
       "    .dataframe tbody tr th {\n",
       "        vertical-align: top;\n",
       "    }\n",
       "\n",
       "    .dataframe thead th {\n",
       "        text-align: right;\n",
       "    }\n",
       "</style>\n",
       "<table border=\"1\" class=\"dataframe\">\n",
       "  <thead>\n",
       "    <tr style=\"text-align: right;\">\n",
       "      <th></th>\n",
       "      <th>season</th>\n",
       "      <th>episode_number</th>\n",
       "      <th>title</th>\n",
       "      <th>airdate</th>\n",
       "      <th>rating</th>\n",
       "      <th>total_votes</th>\n",
       "      <th>desc</th>\n",
       "    </tr>\n",
       "  </thead>\n",
       "  <tbody>\n",
       "    <tr>\n",
       "      <th>0</th>\n",
       "      <td>1</td>\n",
       "      <td>1</td>\n",
       "      <td>Pilot</td>\n",
       "      <td>24 Mar. 2005</td>\n",
       "      <td>7.5</td>\n",
       "      <td>(6,328)</td>\n",
       "      <td>The premiere episode introduces the boss and s...</td>\n",
       "    </tr>\n",
       "    <tr>\n",
       "      <th>1</th>\n",
       "      <td>1</td>\n",
       "      <td>2</td>\n",
       "      <td>Diversity Day</td>\n",
       "      <td>29 Mar. 2005</td>\n",
       "      <td>8.3</td>\n",
       "      <td>(6,217)</td>\n",
       "      <td>Michael's off color remark puts a sensitivity ...</td>\n",
       "    </tr>\n",
       "    <tr>\n",
       "      <th>2</th>\n",
       "      <td>1</td>\n",
       "      <td>3</td>\n",
       "      <td>Health Care</td>\n",
       "      <td>5 Apr. 2005</td>\n",
       "      <td>7.8</td>\n",
       "      <td>(5,200)</td>\n",
       "      <td>Michael leaves Dwight in charge of picking the...</td>\n",
       "    </tr>\n",
       "    <tr>\n",
       "      <th>3</th>\n",
       "      <td>1</td>\n",
       "      <td>4</td>\n",
       "      <td>The Alliance</td>\n",
       "      <td>12 Apr. 2005</td>\n",
       "      <td>8.0</td>\n",
       "      <td>(5,054)</td>\n",
       "      <td>Just for a laugh, Jim agrees to an alliance wi...</td>\n",
       "    </tr>\n",
       "    <tr>\n",
       "      <th>4</th>\n",
       "      <td>1</td>\n",
       "      <td>5</td>\n",
       "      <td>Basketball</td>\n",
       "      <td>19 Apr. 2005</td>\n",
       "      <td>8.4</td>\n",
       "      <td>(5,585)</td>\n",
       "      <td>Michael and his staff challenge the warehouse ...</td>\n",
       "    </tr>\n",
       "  </tbody>\n",
       "</table>\n",
       "</div>"
      ],
      "text/plain": [
       "   season episode_number          title       airdate rating total_votes  \\\n",
       "0       1              1          Pilot  24 Mar. 2005    7.5     (6,328)   \n",
       "1       1              2  Diversity Day  29 Mar. 2005    8.3     (6,217)   \n",
       "2       1              3    Health Care   5 Apr. 2005    7.8     (5,200)   \n",
       "3       1              4   The Alliance  12 Apr. 2005    8.0     (5,054)   \n",
       "4       1              5     Basketball  19 Apr. 2005    8.4     (5,585)   \n",
       "\n",
       "                                                desc  \n",
       "0  The premiere episode introduces the boss and s...  \n",
       "1  Michael's off color remark puts a sensitivity ...  \n",
       "2  Michael leaves Dwight in charge of picking the...  \n",
       "3  Just for a laugh, Jim agrees to an alliance wi...  \n",
       "4  Michael and his staff challenge the warehouse ...  "
      ]
     },
     "execution_count": 13,
     "metadata": {},
     "output_type": "execute_result"
    }
   ],
   "source": [
    "import pandas as pd\n",
    "community_episodes = pd.DataFrame(community_episodes, columns = ['season', 'episode_number', 'title', 'airdate', 'rating', 'total_votes', 'desc'])\n",
    "\n",
    "community_episodes.head()"
   ]
  },
  {
   "cell_type": "code",
   "execution_count": 14,
   "metadata": {},
   "outputs": [],
   "source": [
    "def remove_str(votes):\n",
    "    for r in ((',',''), ('(',''),(')','')):\n",
    "        votes = votes.replace(*r)\n",
    "        \n",
    "    return votes"
   ]
  },
  {
   "cell_type": "code",
   "execution_count": 15,
   "metadata": {},
   "outputs": [
    {
     "data": {
      "text/html": [
       "<div>\n",
       "<style scoped>\n",
       "    .dataframe tbody tr th:only-of-type {\n",
       "        vertical-align: middle;\n",
       "    }\n",
       "\n",
       "    .dataframe tbody tr th {\n",
       "        vertical-align: top;\n",
       "    }\n",
       "\n",
       "    .dataframe thead th {\n",
       "        text-align: right;\n",
       "    }\n",
       "</style>\n",
       "<table border=\"1\" class=\"dataframe\">\n",
       "  <thead>\n",
       "    <tr style=\"text-align: right;\">\n",
       "      <th></th>\n",
       "      <th>season</th>\n",
       "      <th>episode_number</th>\n",
       "      <th>title</th>\n",
       "      <th>airdate</th>\n",
       "      <th>rating</th>\n",
       "      <th>total_votes</th>\n",
       "      <th>desc</th>\n",
       "    </tr>\n",
       "  </thead>\n",
       "  <tbody>\n",
       "    <tr>\n",
       "      <th>0</th>\n",
       "      <td>1</td>\n",
       "      <td>1</td>\n",
       "      <td>Pilot</td>\n",
       "      <td>24 Mar. 2005</td>\n",
       "      <td>7.5</td>\n",
       "      <td>6328</td>\n",
       "      <td>The premiere episode introduces the boss and s...</td>\n",
       "    </tr>\n",
       "    <tr>\n",
       "      <th>1</th>\n",
       "      <td>1</td>\n",
       "      <td>2</td>\n",
       "      <td>Diversity Day</td>\n",
       "      <td>29 Mar. 2005</td>\n",
       "      <td>8.3</td>\n",
       "      <td>6217</td>\n",
       "      <td>Michael's off color remark puts a sensitivity ...</td>\n",
       "    </tr>\n",
       "    <tr>\n",
       "      <th>2</th>\n",
       "      <td>1</td>\n",
       "      <td>3</td>\n",
       "      <td>Health Care</td>\n",
       "      <td>5 Apr. 2005</td>\n",
       "      <td>7.8</td>\n",
       "      <td>5200</td>\n",
       "      <td>Michael leaves Dwight in charge of picking the...</td>\n",
       "    </tr>\n",
       "    <tr>\n",
       "      <th>3</th>\n",
       "      <td>1</td>\n",
       "      <td>4</td>\n",
       "      <td>The Alliance</td>\n",
       "      <td>12 Apr. 2005</td>\n",
       "      <td>8.0</td>\n",
       "      <td>5054</td>\n",
       "      <td>Just for a laugh, Jim agrees to an alliance wi...</td>\n",
       "    </tr>\n",
       "    <tr>\n",
       "      <th>4</th>\n",
       "      <td>1</td>\n",
       "      <td>5</td>\n",
       "      <td>Basketball</td>\n",
       "      <td>19 Apr. 2005</td>\n",
       "      <td>8.4</td>\n",
       "      <td>5585</td>\n",
       "      <td>Michael and his staff challenge the warehouse ...</td>\n",
       "    </tr>\n",
       "  </tbody>\n",
       "</table>\n",
       "</div>"
      ],
      "text/plain": [
       "   season episode_number          title       airdate rating  total_votes  \\\n",
       "0       1              1          Pilot  24 Mar. 2005    7.5         6328   \n",
       "1       1              2  Diversity Day  29 Mar. 2005    8.3         6217   \n",
       "2       1              3    Health Care   5 Apr. 2005    7.8         5200   \n",
       "3       1              4   The Alliance  12 Apr. 2005    8.0         5054   \n",
       "4       1              5     Basketball  19 Apr. 2005    8.4         5585   \n",
       "\n",
       "                                                desc  \n",
       "0  The premiere episode introduces the boss and s...  \n",
       "1  Michael's off color remark puts a sensitivity ...  \n",
       "2  Michael leaves Dwight in charge of picking the...  \n",
       "3  Just for a laugh, Jim agrees to an alliance wi...  \n",
       "4  Michael and his staff challenge the warehouse ...  "
      ]
     },
     "execution_count": 15,
     "metadata": {},
     "output_type": "execute_result"
    }
   ],
   "source": [
    "community_episodes['total_votes'] = community_episodes.total_votes.apply(remove_str).astype(int)\n",
    "\n",
    "community_episodes.head()"
   ]
  },
  {
   "cell_type": "code",
   "execution_count": 16,
   "metadata": {},
   "outputs": [],
   "source": [
    "community_episodes['rating'] = community_episodes.rating.astype(float)"
   ]
  },
  {
   "cell_type": "code",
   "execution_count": 17,
   "metadata": {},
   "outputs": [
    {
     "name": "stdout",
     "output_type": "stream",
     "text": [
      "<class 'pandas.core.frame.DataFrame'>\n",
      "RangeIndex: 188 entries, 0 to 187\n",
      "Data columns (total 7 columns):\n",
      " #   Column          Non-Null Count  Dtype         \n",
      "---  ------          --------------  -----         \n",
      " 0   season          188 non-null    int64         \n",
      " 1   episode_number  188 non-null    object        \n",
      " 2   title           188 non-null    object        \n",
      " 3   airdate         188 non-null    datetime64[ns]\n",
      " 4   rating          188 non-null    float64       \n",
      " 5   total_votes     188 non-null    int32         \n",
      " 6   desc            188 non-null    object        \n",
      "dtypes: datetime64[ns](1), float64(1), int32(1), int64(1), object(3)\n",
      "memory usage: 9.7+ KB\n"
     ]
    }
   ],
   "source": [
    "community_episodes['airdate'] = pd.to_datetime(community_episodes.airdate)\n",
    "\n",
    "community_episodes.info()"
   ]
  },
  {
   "cell_type": "code",
   "execution_count": 31,
   "metadata": {
    "scrolled": true
   },
   "outputs": [
    {
     "data": {
      "text/html": [
       "<div>\n",
       "<style scoped>\n",
       "    .dataframe tbody tr th:only-of-type {\n",
       "        vertical-align: middle;\n",
       "    }\n",
       "\n",
       "    .dataframe tbody tr th {\n",
       "        vertical-align: top;\n",
       "    }\n",
       "\n",
       "    .dataframe thead th {\n",
       "        text-align: right;\n",
       "    }\n",
       "</style>\n",
       "<table border=\"1\" class=\"dataframe\">\n",
       "  <thead>\n",
       "    <tr style=\"text-align: right;\">\n",
       "      <th></th>\n",
       "      <th>season</th>\n",
       "      <th>episode_number</th>\n",
       "      <th>title</th>\n",
       "      <th>airdate</th>\n",
       "      <th>rating</th>\n",
       "      <th>total_votes</th>\n",
       "      <th>desc</th>\n",
       "    </tr>\n",
       "  </thead>\n",
       "  <tbody>\n",
       "    <tr>\n",
       "      <th>0</th>\n",
       "      <td>1</td>\n",
       "      <td>1</td>\n",
       "      <td>Pilot</td>\n",
       "      <td>2005-03-24</td>\n",
       "      <td>7.5</td>\n",
       "      <td>6328</td>\n",
       "      <td>The premiere episode introduces the boss and s...</td>\n",
       "    </tr>\n",
       "    <tr>\n",
       "      <th>1</th>\n",
       "      <td>1</td>\n",
       "      <td>2</td>\n",
       "      <td>Diversity Day</td>\n",
       "      <td>2005-03-29</td>\n",
       "      <td>8.3</td>\n",
       "      <td>6217</td>\n",
       "      <td>Michael's off color remark puts a sensitivity ...</td>\n",
       "    </tr>\n",
       "    <tr>\n",
       "      <th>2</th>\n",
       "      <td>1</td>\n",
       "      <td>3</td>\n",
       "      <td>Health Care</td>\n",
       "      <td>2005-04-05</td>\n",
       "      <td>7.8</td>\n",
       "      <td>5200</td>\n",
       "      <td>Michael leaves Dwight in charge of picking the...</td>\n",
       "    </tr>\n",
       "    <tr>\n",
       "      <th>3</th>\n",
       "      <td>1</td>\n",
       "      <td>4</td>\n",
       "      <td>The Alliance</td>\n",
       "      <td>2005-04-12</td>\n",
       "      <td>8.0</td>\n",
       "      <td>5054</td>\n",
       "      <td>Just for a laugh, Jim agrees to an alliance wi...</td>\n",
       "    </tr>\n",
       "    <tr>\n",
       "      <th>4</th>\n",
       "      <td>1</td>\n",
       "      <td>5</td>\n",
       "      <td>Basketball</td>\n",
       "      <td>2005-04-19</td>\n",
       "      <td>8.4</td>\n",
       "      <td>5585</td>\n",
       "      <td>Michael and his staff challenge the warehouse ...</td>\n",
       "    </tr>\n",
       "  </tbody>\n",
       "</table>\n",
       "</div>"
      ],
      "text/plain": [
       "   season episode_number          title    airdate  rating  total_votes  \\\n",
       "0       1              1          Pilot 2005-03-24     7.5         6328   \n",
       "1       1              2  Diversity Day 2005-03-29     8.3         6217   \n",
       "2       1              3    Health Care 2005-04-05     7.8         5200   \n",
       "3       1              4   The Alliance 2005-04-12     8.0         5054   \n",
       "4       1              5     Basketball 2005-04-19     8.4         5585   \n",
       "\n",
       "                                                desc  \n",
       "0  The premiere episode introduces the boss and s...  \n",
       "1  Michael's off color remark puts a sensitivity ...  \n",
       "2  Michael leaves Dwight in charge of picking the...  \n",
       "3  Just for a laugh, Jim agrees to an alliance wi...  \n",
       "4  Michael and his staff challenge the warehouse ...  "
      ]
     },
     "execution_count": 31,
     "metadata": {},
     "output_type": "execute_result"
    }
   ],
   "source": [
    "community_episodes.head()"
   ]
  },
  {
   "cell_type": "code",
   "execution_count": 21,
   "metadata": {},
   "outputs": [],
   "source": [
    "import seaborn as sns\n",
    "import matplotlib.pyplot as plt\n",
    "%matplotlib inline"
   ]
  },
  {
   "cell_type": "code",
   "execution_count": 24,
   "metadata": {},
   "outputs": [],
   "source": [
    "def label_review(row):\n",
    "   if row['rating'] >= 8.0 :\n",
    "      return 'Great episode'\n",
    "   if row['rating'] < 5.0 :\n",
    "      return 'Bad episode'\n",
    "   return 'Good episode, kind of funny'"
   ]
  },
  {
   "cell_type": "code",
   "execution_count": 25,
   "metadata": {},
   "outputs": [
    {
     "data": {
      "text/plain": [
       "0      Good episode, kind of funny\n",
       "1                    Great episode\n",
       "2      Good episode, kind of funny\n",
       "3                    Great episode\n",
       "4                    Great episode\n",
       "                  ...             \n",
       "183                  Great episode\n",
       "184                  Great episode\n",
       "185                  Great episode\n",
       "186                  Great episode\n",
       "187                  Great episode\n",
       "Length: 188, dtype: object"
      ]
     },
     "execution_count": 25,
     "metadata": {},
     "output_type": "execute_result"
    }
   ],
   "source": [
    "community_episodes.apply (lambda row: label_review(row), axis=1)"
   ]
  },
  {
   "cell_type": "code",
   "execution_count": 39,
   "metadata": {},
   "outputs": [
    {
     "data": {
      "text/html": [
       "<div>\n",
       "<style scoped>\n",
       "    .dataframe tbody tr th:only-of-type {\n",
       "        vertical-align: middle;\n",
       "    }\n",
       "\n",
       "    .dataframe tbody tr th {\n",
       "        vertical-align: top;\n",
       "    }\n",
       "\n",
       "    .dataframe thead th {\n",
       "        text-align: right;\n",
       "    }\n",
       "</style>\n",
       "<table border=\"1\" class=\"dataframe\">\n",
       "  <thead>\n",
       "    <tr style=\"text-align: right;\">\n",
       "      <th></th>\n",
       "      <th>season</th>\n",
       "      <th>episode_number</th>\n",
       "      <th>title</th>\n",
       "      <th>airdate</th>\n",
       "      <th>rating</th>\n",
       "      <th>total_votes</th>\n",
       "      <th>desc</th>\n",
       "    </tr>\n",
       "  </thead>\n",
       "  <tbody>\n",
       "    <tr>\n",
       "      <th>187</th>\n",
       "      <td>9</td>\n",
       "      <td>23</td>\n",
       "      <td>Finale</td>\n",
       "      <td>2013-05-16</td>\n",
       "      <td>9.8</td>\n",
       "      <td>13729</td>\n",
       "      <td>One year later, Dunder Mifflin employees past ...</td>\n",
       "    </tr>\n",
       "    <tr>\n",
       "      <th>137</th>\n",
       "      <td>7</td>\n",
       "      <td>21</td>\n",
       "      <td>Goodbye, Michael</td>\n",
       "      <td>2011-04-28</td>\n",
       "      <td>9.8</td>\n",
       "      <td>11023</td>\n",
       "      <td>As the office gets ready for Michael's final d...</td>\n",
       "    </tr>\n",
       "    <tr>\n",
       "      <th>77</th>\n",
       "      <td>5</td>\n",
       "      <td>13</td>\n",
       "      <td>Stress Relief</td>\n",
       "      <td>2009-02-01</td>\n",
       "      <td>9.7</td>\n",
       "      <td>10768</td>\n",
       "      <td>Dwight's too-realistic fire alarm gives Stanle...</td>\n",
       "    </tr>\n",
       "    <tr>\n",
       "      <th>186</th>\n",
       "      <td>9</td>\n",
       "      <td>22</td>\n",
       "      <td>A.A.R.M.</td>\n",
       "      <td>2013-05-09</td>\n",
       "      <td>9.5</td>\n",
       "      <td>5355</td>\n",
       "      <td>Dwight prepares for a marriage proposal and hi...</td>\n",
       "    </tr>\n",
       "    <tr>\n",
       "      <th>95</th>\n",
       "      <td>6</td>\n",
       "      <td>5</td>\n",
       "      <td>Niagara: Part 2</td>\n",
       "      <td>2009-10-08</td>\n",
       "      <td>9.5</td>\n",
       "      <td>4577</td>\n",
       "      <td>Pam is forced to deal with an embarrassing inj...</td>\n",
       "    </tr>\n",
       "    <tr>\n",
       "      <th>...</th>\n",
       "      <td>...</td>\n",
       "      <td>...</td>\n",
       "      <td>...</td>\n",
       "      <td>...</td>\n",
       "      <td>...</td>\n",
       "      <td>...</td>\n",
       "      <td>...</td>\n",
       "    </tr>\n",
       "    <tr>\n",
       "      <th>160</th>\n",
       "      <td>8</td>\n",
       "      <td>20</td>\n",
       "      <td>Welcome Party</td>\n",
       "      <td>2012-04-12</td>\n",
       "      <td>7.0</td>\n",
       "      <td>2658</td>\n",
       "      <td>Andy tries to break up with his girlfriend aft...</td>\n",
       "    </tr>\n",
       "    <tr>\n",
       "      <th>161</th>\n",
       "      <td>8</td>\n",
       "      <td>21</td>\n",
       "      <td>Angry Andy</td>\n",
       "      <td>2012-04-19</td>\n",
       "      <td>6.9</td>\n",
       "      <td>2871</td>\n",
       "      <td>Andy and Erin return to Dunder Mifflin, only t...</td>\n",
       "    </tr>\n",
       "    <tr>\n",
       "      <th>104</th>\n",
       "      <td>6</td>\n",
       "      <td>14</td>\n",
       "      <td>The Banker</td>\n",
       "      <td>2010-01-21</td>\n",
       "      <td>6.8</td>\n",
       "      <td>3992</td>\n",
       "      <td>A banker representing a potential buyer comes ...</td>\n",
       "    </tr>\n",
       "    <tr>\n",
       "      <th>148</th>\n",
       "      <td>8</td>\n",
       "      <td>8</td>\n",
       "      <td>Gettysburg</td>\n",
       "      <td>2011-11-17</td>\n",
       "      <td>6.8</td>\n",
       "      <td>2812</td>\n",
       "      <td>Andy decides to motivate and inspire everyone ...</td>\n",
       "    </tr>\n",
       "    <tr>\n",
       "      <th>159</th>\n",
       "      <td>8</td>\n",
       "      <td>19</td>\n",
       "      <td>Get the Girl</td>\n",
       "      <td>2012-03-15</td>\n",
       "      <td>6.5</td>\n",
       "      <td>3015</td>\n",
       "      <td>Andy goes to Tallahassee to tell Erin that he ...</td>\n",
       "    </tr>\n",
       "  </tbody>\n",
       "</table>\n",
       "<p>188 rows × 7 columns</p>\n",
       "</div>"
      ],
      "text/plain": [
       "     season episode_number             title    airdate  rating  total_votes  \\\n",
       "187       9             23            Finale 2013-05-16     9.8        13729   \n",
       "137       7             21  Goodbye, Michael 2011-04-28     9.8        11023   \n",
       "77        5             13     Stress Relief 2009-02-01     9.7        10768   \n",
       "186       9             22          A.A.R.M. 2013-05-09     9.5         5355   \n",
       "95        6              5   Niagara: Part 2 2009-10-08     9.5         4577   \n",
       "..      ...            ...               ...        ...     ...          ...   \n",
       "160       8             20     Welcome Party 2012-04-12     7.0         2658   \n",
       "161       8             21        Angry Andy 2012-04-19     6.9         2871   \n",
       "104       6             14        The Banker 2010-01-21     6.8         3992   \n",
       "148       8              8        Gettysburg 2011-11-17     6.8         2812   \n",
       "159       8             19      Get the Girl 2012-03-15     6.5         3015   \n",
       "\n",
       "                                                  desc  \n",
       "187  One year later, Dunder Mifflin employees past ...  \n",
       "137  As the office gets ready for Michael's final d...  \n",
       "77   Dwight's too-realistic fire alarm gives Stanle...  \n",
       "186  Dwight prepares for a marriage proposal and hi...  \n",
       "95   Pam is forced to deal with an embarrassing inj...  \n",
       "..                                                 ...  \n",
       "160  Andy tries to break up with his girlfriend aft...  \n",
       "161  Andy and Erin return to Dunder Mifflin, only t...  \n",
       "104  A banker representing a potential buyer comes ...  \n",
       "148  Andy decides to motivate and inspire everyone ...  \n",
       "159  Andy goes to Tallahassee to tell Erin that he ...  \n",
       "\n",
       "[188 rows x 7 columns]"
      ]
     },
     "execution_count": 39,
     "metadata": {},
     "output_type": "execute_result"
    }
   ],
   "source": [
    "community_episodes = community_episodes.sort_values(by ='rating',ascending=False)\n",
    "community_episodes"
   ]
  },
  {
   "cell_type": "code",
   "execution_count": 55,
   "metadata": {},
   "outputs": [
    {
     "data": {
      "text/plain": [
       "<AxesSubplot:xlabel='season', ylabel='rating'>"
      ]
     },
     "execution_count": 55,
     "metadata": {},
     "output_type": "execute_result"
    },
    {
     "data": {
      "image/png": "[encoded data removed]",
      "text/plain": [
       "<Figure size 648x360 with 1 Axes>"
      ]
     },
     "metadata": {
      "needs_background": "light"
     },
     "output_type": "display_data"
    }
   ],
   "source": [
    "plt.figure(figsize=[9,5])\n",
    "# season = community_episodes['season'].head(12)\n",
    "# rating = community_episodes['rating'].head(12)\n",
    " \n",
    "# # Figure Size\n",
    "# fig = plt.figure(figsize =(10, 7))\n",
    " \n",
    "# # Horizontal Bar Plot\n",
    "# plt.bar(season[0:10], rating[0:10])\n",
    " \n",
    "# plt.xlabel(\"season number\")\n",
    "# plt.ylabel(\"Rating\")\n",
    "# plt.title(\"Season wise rating\")\n",
    "\n",
    "# # Show Plot\n",
    "# plt.show()\n",
    "\n",
    "sns.barplot(x='season',y='rating',data=community_episodes)"
   ]
  }
 ],
 "metadata": {
  "kernelspec": {
   "display_name": "Python 3",
   "language": "python",
   "name": "python3"
  },
  "language_info": {
   "codemirror_mode": {
    "name": "ipython",
    "version": 3
   },
   "file_extension": ".py",
   "mimetype": "text/x-python",
   "name": "python",
   "nbconvert_exporter": "python",
   "pygments_lexer": "ipython3",
   "version": "3.8.5"
  }
 },
 "nbformat": 4,
 "nbformat_minor": 4
}
